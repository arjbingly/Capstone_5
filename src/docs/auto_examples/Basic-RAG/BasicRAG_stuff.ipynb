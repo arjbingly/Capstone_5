{
  "cells": [
    {
      "cell_type": "markdown",
      "metadata": {},
      "source": [
        "# Stuff Chain\nThis cookbook demonstrates how to use the stuff chain for BasicRAG.\n"
      ]
    },
    {
      "cell_type": "code",
      "execution_count": null,
      "metadata": {
        "collapsed": false
      },
      "outputs": [],
      "source": [
        "from grag.components.multivec_retriever import Retriever\nfrom grag.components.vectordb.deeplake_client import DeepLakeClient\nfrom grag.rag.basic_rag import BasicRAG\n\nclient = DeepLakeClient(collection_name=\"test\")\nretriever = Retriever(vectordb=client)\n\nrag = BasicRAG(doc_chain=\"stuff\", retriever=retriever)\n\nif __name__ == \"__main__\":\n    while True:\n        query = input(\"Query:\")\n        rag(query)"
      ]
    }
  ],
  "metadata": {
    "kernelspec": {
      "display_name": "Python 3",
      "language": "python",
      "name": "python3"
    },
    "language_info": {
      "codemirror_mode": {
        "name": "ipython",
        "version": 3
      },
      "file_extension": ".py",
      "mimetype": "text/x-python",
      "name": "python",
      "nbconvert_exporter": "python",
      "pygments_lexer": "ipython3",
      "version": "3.11.8"
    }
  },
  "nbformat": 4,
  "nbformat_minor": 0
}