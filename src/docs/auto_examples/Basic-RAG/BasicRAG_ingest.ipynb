{
  "cells": [
    {
      "cell_type": "markdown",
      "metadata": {},
      "source": [
        "# Document Ingestion\nThis cookbook demonstrates how to ingest documents into a vector database.\n"
      ]
    },
    {
      "cell_type": "code",
      "execution_count": null,
      "metadata": {
        "collapsed": false
      },
      "outputs": [],
      "source": [
        "from grag.components.multivec_retriever import Retriever\nfrom grag.components.vectordb.deeplake_client import DeepLakeClient\n\nclient = DeepLakeClient(collection_name=\"your_collection_name\")\n\n## Alternatively to use Chroma\n# from grag.components.vectordb.chroma_client import ChromaClient\n# client = ChromaClient(collection_name=\"ci_test\")\n\nretriever = Retriever(vectordb=client)\n\ndir_path = \"data/pdf\"  # path to pdf files\nretriever.ingest(dir_path)"
      ]
    }
  ],
  "metadata": {
    "kernelspec": {
      "display_name": "Python 3",
      "language": "python",
      "name": "python3"
    },
    "language_info": {
      "codemirror_mode": {
        "name": "ipython",
        "version": 3
      },
      "file_extension": ".py",
      "mimetype": "text/x-python",
      "name": "python",
      "nbconvert_exporter": "python",
      "pygments_lexer": "ipython3",
      "version": "3.11.8"
    }
  },
  "nbformat": 4,
  "nbformat_minor": 0
}